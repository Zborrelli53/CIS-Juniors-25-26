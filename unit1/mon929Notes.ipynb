{
 "cells": [
  {
   "cell_type": "markdown",
   "id": "fecec87a",
   "metadata": {},
   "source": [
    "### Head of an HTML Skeleton\n",
    "\n",
    "< head>\n",
    "    <title>The Heading of the HTML Document</title>\n",
    "    \n",
    "\n",
    "< /head>\n",
    "\n",
    "\n",
    "< h1 >Overview of HTML elements< /h1>\n",
    "\n",
    "< ul>\n",
    "* < l1>Title Element< /l1>\n",
    "* < l1>Base Elements< /l1>\n",
    "* < l1>Link Element< /l1>\n",
    "* < l1>Style Element< /l1>\n",
    "* < l1>Script Element< /l1>\n",
    "* < l1>Meta Document< /l1>\n",
    "< /ul>\n",
    "\n",
    "< title> ->\n",
    "\n",
    "File Names:\n",
    "* Use only lowercase letters and or CaMaL case or Snake_Case\n",
    "* file extensions are always lowercase  .html not .HTML\n",
    "* you can use digits 0-9\n",
    "* Underscore Character _\n",
    "* Cannot Start with numbers\n"
   ]
  },
  {
   "cell_type": "code",
   "execution_count": null,
   "id": "ab1b38ef",
   "metadata": {
    "vscode": {
     "languageId": "plaintext"
    }
   },
   "outputs": [],
   "source": []
  },
  {
   "cell_type": "markdown",
   "id": "f1859793",
   "metadata": {},
   "source": [
    "### The Structure of a URL (Uniform Resource Locator)\n",
    "    \n",
    "\n",
    "Protocol:  \n",
    "\n",
    "https://                       \n",
    "    s - Secure\n",
    "\n",
    "Domain:\n",
    " *   .com\n",
    " *   .edu\n",
    " *   .gov\n",
    " *   .org\n",
    " *   .io\n",
    " *   .microsoft\n",
    " * ex: www.domain.com/folder1/folder2/index.html\n",
    "\n",
    "\n",
    "Optional - Path and File\n",
    "\n",
    "index.html -> the homepage of a directory\n",
    "\n",
    "< base> -> defines the base URL for the site\n",
    "         - for all files referenced in the html doc.\n",
    "< link> -> Creates a relationship between current doc & an external doc\n",
    "            index.html -> style.css\n",
    "        < link> rel=\"stylesheet\" type=\"text.css\" href=\" .css\"\n"
   ]
  }
 ],
 "metadata": {
  "language_info": {
   "name": "python"
  }
 },
 "nbformat": 4,
 "nbformat_minor": 5
}
