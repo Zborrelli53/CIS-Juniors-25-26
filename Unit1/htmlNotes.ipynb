{
 "cells": [
  {
   "cell_type": "markdown",
   "id": "47083712",
   "metadata": {},
   "source": [
    "# Introduction to HTML"
   ]
  },
  {
   "cell_type": "markdown",
   "id": "bae49b5c",
   "metadata": {},
   "source": [
    "## HTML Defined\n",
    "\n",
    "**HTML** - Hypertext Market Language - This is the language used to describe your content.\n",
    "\n",
    "**CSS** - Cascading Style sheets - This language is used to design the way your content looks on the web\n",
    "\n",
    "**JavaScript** - NOT to be confused with Java - JS is the language use to adding interactivity to web Pages\n",
    "\n",
    "### These are the 3 main web languages"
   ]
  },
  {
   "cell_type": "markdown",
   "id": "a09d2aaf",
   "metadata": {},
   "source": [
    "### Web Browsers\n",
    "\n",
    "* Browsing, reading, and translating web documents\n",
    "* Examples of web browsers\n",
    "    * Google Chrome\n",
    "    * Firefox\n",
    "    * Microsoft Edge\n",
    "    * Opera GX\n",
    "    * Duck Duck Go\n",
    "    * Safari\n",
    "    * Brave\n",
    "    * Internet Explorer (MS) - Depricated\n",
    "    * Netscape - Depricated\n",
    "* Why you do not use old or Outdated Browsers\n",
    "    * Security - security updates"
   ]
  },
  {
   "cell_type": "markdown",
   "id": "de956f90",
   "metadata": {},
   "source": [
    "### HTML Skeleton/Structure\n",
    "\n",
    "### See index.html\n",
    "\n",
    "### Sturcture of an HTML tag\n",
    "<meta charset=\"UTF-8\">\n",
    "\n",
    "* Tag name\n",
    "* Attribute Name\n",
    "* Atribute Values"
   ]
  },
  {
   "cell_type": "markdown",
   "id": "ab1bfb84",
   "metadata": {},
   "source": [
    "### Key Concepts of HTML\n",
    "\n",
    "* Most HTML Tags have an opening & closing tag\n",
    "* HTML Elements - These are created by a complere pair of tags with content\n",
    "* Attributes - additional information about the elements\n",
    "\n",
    "#### Essential HTMl Elements:\n",
    "\n",
    "* < h1></ h1> through < h6> < /h6> - headings, H1 is the largest by default, H6 is the smallest\n",
    "* < p>< /P> - paragraph element\n",
    "- Line Break\n",
    "(dont have spaces inbetween greater/less than symbols)"
   ]
  },
  {
   "cell_type": "markdown",
   "id": "e34248a8",
   "metadata": {},
   "source": []
  }
 ],
 "metadata": {
  "language_info": {
   "name": "python"
  }
 },
 "nbformat": 4,
 "nbformat_minor": 5
}
